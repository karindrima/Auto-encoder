{
  "nbformat": 4,
  "nbformat_minor": 0,
  "metadata": {
    "colab": {
      "provenance": [],
      "authorship_tag": "ABX9TyOWHqkrBmQLagGUM2OnyaMA",
      "include_colab_link": true
    },
    "kernelspec": {
      "name": "python3",
      "display_name": "Python 3"
    },
    "language_info": {
      "name": "python"
    }
  },
  "cells": [
    {
      "cell_type": "markdown",
      "metadata": {
        "id": "view-in-github",
        "colab_type": "text"
      },
      "source": [
        "<a href=\"https://colab.research.google.com/github/karindrima/Auto-encoder/blob/main/Coding_round_Arindrima_Koley.ipynb\" target=\"_parent\"><img src=\"https://colab.research.google.com/assets/colab-badge.svg\" alt=\"Open In Colab\"/></a>"
      ]
    },
    {
      "cell_type": "code",
      "execution_count": null,
      "metadata": {
        "colab": {
          "base_uri": "https://localhost:8080/"
        },
        "id": "w622QLukd8hr",
        "outputId": "5a3bd127-cab9-4fd9-9a29-c52ff597f557"
      },
      "outputs": [
        {
          "output_type": "stream",
          "name": "stdout",
          "text": [
            "Requirement already satisfied: pandas in /usr/local/lib/python3.10/dist-packages (1.5.3)\n",
            "Requirement already satisfied: python-dateutil>=2.8.1 in /usr/local/lib/python3.10/dist-packages (from pandas) (2.8.2)\n",
            "Requirement already satisfied: pytz>=2020.1 in /usr/local/lib/python3.10/dist-packages (from pandas) (2023.3)\n",
            "Requirement already satisfied: numpy>=1.21.0 in /usr/local/lib/python3.10/dist-packages (from pandas) (1.23.5)\n",
            "Requirement already satisfied: six>=1.5 in /usr/local/lib/python3.10/dist-packages (from python-dateutil>=2.8.1->pandas) (1.16.0)\n",
            "Requirement already satisfied: datetime in /usr/local/lib/python3.10/dist-packages (5.2)\n",
            "Requirement already satisfied: zope.interface in /usr/local/lib/python3.10/dist-packages (from datetime) (6.0)\n",
            "Requirement already satisfied: pytz in /usr/local/lib/python3.10/dist-packages (from datetime) (2023.3)\n",
            "Requirement already satisfied: setuptools in /usr/local/lib/python3.10/dist-packages (from zope.interface->datetime) (67.7.2)\n"
          ]
        }
      ],
      "source": [
        "#installation of packages\n",
        "!pip install pandas\n",
        "!pip install datetime\n",
        "import pandas as pd\n",
        "import math"
      ]
    },
    {
      "cell_type": "code",
      "source": [
        "#loading dataset\n",
        "url = '/content/Coding_Pool.csv'\n",
        "df1 = pd.read_csv(url)"
      ],
      "metadata": {
        "id": "6a_6dv_AelC_"
      },
      "execution_count": null,
      "outputs": []
    },
    {
      "cell_type": "code",
      "source": [
        "#Property occupancy adjustment factor is added as column factor1\n",
        "df1.loc[df1['occupancy.type']== 'sh', 'factor1'] = 1.2\n",
        "df1.loc[df1['occupancy.type']== 'btl', 'factor1'] = 1.3\n",
        "df1.loc[df1['occupancy.type'].isin(['own','other','part']), 'factor1'] = 1"
      ],
      "metadata": {
        "id": "akWrHdtverH2"
      },
      "execution_count": null,
      "outputs": []
    },
    {
      "cell_type": "code",
      "source": [
        "#Standardising date timeframe\n",
        "alsofdate = pd.to_datetime('2020-03-31')\n",
        "df1['datecolumn']= pd.to_datetime(df1['int.switch.date'])\n",
        "df1['days'] = (alsofdate - df1['datecolumn']).dt.days\n",
        "df1['days.net.calc']= (df1['days']/365)* 12\n",
        "referance_date = pd.to_datetime('1970-01-01')"
      ],
      "metadata": {
        "id": "2i2UFlYhe8xX"
      },
      "execution_count": null,
      "outputs": []
    },
    {
      "cell_type": "code",
      "source": [
        "#Payment shock adjustment is saved in factor2 column\n",
        "df1.loc[(df1['interest.product']== 'DISCOUNT')& (df1['datecolumn']!= referance_date) & (df1['days.net.calc']<= 6) ,\n",
        "        'factor2'] = 1.5\n",
        "df1.loc[(df1['interest.product']== 'DISCOUNT')& (df1['datecolumn']!= referance_date) & (df1['days.net.calc']> 6) ,\n",
        "        'factor2'] = 1\n",
        "df1.loc[(df1['interest.product']!= 'DISCOUNT'), 'factor2'] = 1"
      ],
      "metadata": {
        "id": "lREw69YwfH2P"
      },
      "execution_count": null,
      "outputs": []
    },
    {
      "cell_type": "code",
      "source": [
        "num_distinct_categories = df1['region'].nunique() #to find the no of different regions\n",
        "category_counts = df1['region'].value_counts()  #to get the count of each region\n",
        "print(num_distinct_categories)\n",
        "print(category_counts)\n",
        "total_loans= df1.shape[0]\n",
        "if total_loans> 1 & total_loans<= 250  :      #calculate small pool adjustment\n",
        "  small_pool_adjust = 16.0839/ math.log(total_loans)\n",
        "else :\n",
        "  small_pool_adjust = 1\n",
        "total_adjusted_bal = df1['adjusted.bal'].sum()  # total summation of the Adjusted balance\n",
        "region_list = df1['region'].unique() #creating a list of unique regions to find geo.concentration\n",
        "print(region_list)"
      ],
      "metadata": {
        "colab": {
          "base_uri": "https://localhost:8080/"
        },
        "id": "V3oamlkYfIzH",
        "outputId": "08d0aa3c-7949-4592-c11c-4f14085d386c"
      },
      "execution_count": null,
      "outputs": [
        {
          "output_type": "stream",
          "name": "stdout",
          "text": [
            "12\n",
            "london              79\n",
            "east midlands       66\n",
            "scotland            36\n",
            "east anglia         20\n",
            "north                4\n",
            "north west           4\n",
            "northern ireland     4\n",
            "south east           4\n",
            "south west           4\n",
            "wales                4\n",
            "west midlands        4\n",
            "yorks and humber     4\n",
            "Name: region, dtype: int64\n",
            "['london' 'scotland' 'east midlands' 'east anglia' 'north' 'north west'\n",
            " 'northern ireland' 'south east' 'south west' 'wales' 'west midlands'\n",
            " 'yorks and humber']\n"
          ]
        }
      ]
    },
    {
      "cell_type": "code",
      "source": [
        "geo_concentration = {}\n",
        "for i in region_list :    #for loop for calculating geo concentration of each region\n",
        "  result = df1.loc[df1['region'] == i, 'adjusted.bal'].sum()\n",
        "  geo_concentration[i]=result/ total_adjusted_bal * 100\n",
        "\n",
        "print(geo_concentration)\n",
        "selected_values={key: value for key, value in geo_concentration.items() if value> 20}\n",
        "df1.loc[df1['region']== selected_values, 'factor3'] = 1.5 #Geo concentration adjustment is saved in factor3 column\n",
        "df1.loc[df1['region']!= selected_values, 'factor3'] = 1"
      ],
      "metadata": {
        "colab": {
          "base_uri": "https://localhost:8080/"
        },
        "id": "8eTYGumFfQVg",
        "outputId": "d5320274-e5ab-457c-f33c-2653c18dcdd3"
      },
      "execution_count": null,
      "outputs": [
        {
          "output_type": "stream",
          "name": "stdout",
          "text": [
            "{'london': 34.089427125971795, 'scotland': 15.66285727516502, 'east midlands': 28.370652045079414, 'east anglia': 8.432019807929304, 'north': 1.6789795063450421, 'north west': 1.577349668212525, 'northern ireland': 1.6510332026145533, 'south east': 1.6912505866322818, 'south west': 1.7056896687060306, 'wales': 1.6340029780547347, 'west midlands': 1.767092614041054, 'yorks and humber': 1.739645521248248}\n"
          ]
        }
      ]
    },
    {
      "cell_type": "code",
      "source": [
        "df1['factor']= df1['factor1'] * df1['factor2'] * df1['factor3']\n",
        "print(df1['factor'])\n",
        "df1['ff_calc']= 12 * df1['factor']\n",
        "df1.loc[df1['ff_calc']< 100, 'ff'] = df1['ff_calc']  #Loan level forclosure frequency of each loan is saved in ff column\n",
        "df1.loc[df1['ff_calc']> 100, 'ff'] = 100 #If foreclosure frequency is greater than 100 then setting it to 100\n",
        "print(df1['ff'])"
      ],
      "metadata": {
        "colab": {
          "base_uri": "https://localhost:8080/"
        },
        "id": "afgcWhimfTwP",
        "outputId": "8d3df131-5f8b-4860-f599-a92c280519b8"
      },
      "execution_count": null,
      "outputs": [
        {
          "output_type": "stream",
          "name": "stdout",
          "text": [
            "0      1.0\n",
            "1      1.5\n",
            "2      1.0\n",
            "3      1.0\n",
            "4      1.0\n",
            "      ... \n",
            "228    1.0\n",
            "229    1.0\n",
            "230    1.2\n",
            "231    1.2\n",
            "232    1.2\n",
            "Name: factor, Length: 233, dtype: float64\n",
            "0      12.0\n",
            "1      18.0\n",
            "2      12.0\n",
            "3      12.0\n",
            "4      12.0\n",
            "       ... \n",
            "228    12.0\n",
            "229    12.0\n",
            "230    14.4\n",
            "231    14.4\n",
            "232    14.4\n",
            "Name: ff, Length: 233, dtype: float64\n"
          ]
        }
      ]
    },
    {
      "cell_type": "code",
      "source": [
        "ff_adjusted_bal =(df1['adjusted.bal'] * df1['ff']).sum()\n",
        "print(ff_adjusted_bal)\n",
        "WAFF_calc = (ff_adjusted_bal/total_adjusted_bal)* (small_pool_adjust)\n",
        "WAFF = min(100, WAFF_calc) #Weighted average foreclosure frequency\n",
        "print(WAFF)\n",
        "CC = WAFF * 40 # credit coverage with WALS= 40\n",
        "print(\"Credit coverage =\", CC)"
      ],
      "metadata": {
        "colab": {
          "base_uri": "https://localhost:8080/"
        },
        "id": "YMC8eDHbfaPG",
        "outputId": "cbb4ad3c-6873-40ba-eaec-696d1ba7f19b"
      },
      "execution_count": null,
      "outputs": [
        {
          "output_type": "stream",
          "name": "stdout",
          "text": [
            "140967306.0\n",
            "39.55080318100446\n",
            "Credit coverage = 1582.0321272401784\n"
          ]
        }
      ]
    }
  ]
}